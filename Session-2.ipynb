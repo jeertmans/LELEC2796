{
 "cells": [
  {
   "cell_type": "code",
   "execution_count": null,
   "id": "a236276a",
   "metadata": {},
   "outputs": [],
   "source": [
    "import numpy as np"
   ]
  },
  {
   "cell_type": "markdown",
   "id": "fd90637a",
   "metadata": {},
   "source": [
    "# Session 2: Channels models\n",
    "\n",
    "In the previous session, we introduced the concept of Monte Carlo simulations to model the channel,\n",
    "which can be categorized as a *stochastic* model.\n",
    "\n",
    "Other very popular model types are *empirical* models and *exact* models.\n",
    "The former are mostly based on measurements and often dedicate to one kind of environment (e.g.: urban, sub-urban or indoor). The latter, tries a simulate the wave propagation using very accurate models, often at a higher computational cost. Ray Tracing (RT) is one of those *exact* method.\n",
    "\n",
    "RT is a widely used method, used in sound acoustics, telecommunications, or optical lenses manufacturing, to simulate the channel between points, while accounting for the surrounding geometries.\n",
    "\n",
    "In this session, you will have to implement and compare the \n",
    "[COST Hata model](https://en.wikipedia.org/wiki/COST_Hata_model) with a basic Ray Tracing model. For more details, the COST model is defined in the\n",
    "[COST 231 final report, Chpt. 4, Sec. 4.4.1, Eq. 4.4.3. page 135](http://www.lx.it.pt/cost231/final_report.htm).\n",
    "\n",
    "> NOTE: contrarily to the previous one, this session will not include a lot of code. Still, you will most likely\n",
    "  need to import some code from session 1."
   ]
  },
  {
   "cell_type": "markdown",
   "id": "cfca90d6",
   "metadata": {},
   "source": [
    "## 2.A: COST Hata model\n",
    "\n",
    "First, you need to **implement** the COST Hata model."
   ]
  },
  {
   "cell_type": "code",
   "execution_count": null,
   "id": "becbe3fa",
   "metadata": {},
   "outputs": [],
   "source": [
    "# TODO: Implement these functions\n",
    "\n",
    "\n",
    "def alpha(f: float, h_R: float) -> np.ndarray:\n",
    "    \"\"\"\n",
    "    Returns the height correction factor.\n",
    "    \"\"\"\n",
    "    return 0.0  # Change me\n",
    "\n",
    "\n",
    "def COST_Hata_loss(\n",
    "    f: float, h_B: float, d: np.ndarray, h_R: float, C_m: float\n",
    ") -> np.ndarray:\n",
    "    \"\"\"\n",
    "    Returns the median path loss (in dB).\n",
    "    \"\"\"\n",
    "    alpha(h_R, f)\n",
    "    return np.zeros_like(d)  # Change me"
   ]
  },
  {
   "cell_type": "code",
   "execution_count": null,
   "id": "276cd785-05a4-4bd0-81d3-98a3fa4e3fb3",
   "metadata": {},
   "outputs": [],
   "source": [
    "def line_segment_circle_intersection_depth(\n",
    "    x0: float, y0: float, x1: float, y1: float, xc: float, yc: float, rc: float\n",
    ") -> float:\n",
    "    \"\"\"\n",
    "    Return the length of the intersection section segment between a\n",
    "    line segment and a circle.\n",
    "\n",
    "    The depth is always between 0 and xc, the circle radius.\n",
    "    \"\"\"\n",
    "    dx = x1 - x0\n",
    "    dy = y1 - y0\n",
    "    dr = np.sqrt(dx * dx + dy * dy)\n",
    "    delta = x0 * y1 - x1 * y0\n",
    "    discriminant = rc * rc * dr * dr - delta * delta\n",
    "    np.clip(discriminant, a_min=0.0, a_max=None, out=discriminant)\n",
    "\n",
    "\n",
    "def reflection_path_segments_from_los(\n",
    "    x0: float, y0: float, z0: float, x1: float, y1: float, z1: float\n",
    ") -> float:\n",
    "    pass\n",
    "\n",
    "\n",
    "plt.figure()"
   ]
  }
 ],
 "metadata": {
  "kernelspec": {
   "display_name": "Python 3 (ipykernel)",
   "language": "python",
   "name": "python3"
  },
  "language_info": {
   "codemirror_mode": {
    "name": "ipython",
    "version": 3
   },
   "file_extension": ".py",
   "mimetype": "text/x-python",
   "name": "python",
   "nbconvert_exporter": "python",
   "pygments_lexer": "ipython3",
   "version": "3.10.12"
  }
 },
 "nbformat": 4,
 "nbformat_minor": 5
}
