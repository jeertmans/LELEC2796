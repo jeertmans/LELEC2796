{
 "cells": [
  {
   "cell_type": "code",
   "execution_count": null,
   "metadata": {},
   "outputs": [],
   "source": [
    "from abc import ABC, abstractmethod\n",
    "from dataclasses import dataclass\n",
    "from typing import Optional, Any\n",
    "\n",
    "import numpy as np\n",
    "import matplotlib.pyplot as plt\n",
    "from scipy import integrate"
   ]
  },
  {
   "cell_type": "markdown",
   "metadata": {},
   "source": [
    "# Session 2: Channels models\n",
    "\n",
    "In the previous session, we introduced the concept of Monte Carlo simulations to model the channel,\n",
    "which can be categorized as a *stochastic* model.\n",
    "\n",
    "Other very popular model types are *empirical* models and *exact* models.\n",
    "The former are mostly based on measurements and often dedicate to one kind of environment (e.g.: urban, sub-urban or indoor). The latter, tries a simulate the wave propagation using very accurate models, often at a higher computational cost. Ray Tracing (RT) is one of those *exact* method.\n",
    "\n",
    "RT is a widely used method, used in sound acoustics, telecommunications, or optical lenses manufacturing, to simulate the channel between points, while accounting for the surrounding geometries.\n",
    "\n",
    "In this session, you will have to implement and compare the \n",
    "[COST Hata model](https://en.wikipedia.org/wiki/COST_Hata_model) with a basic Ray Tracing model. For more details, the COST model is defined in the\n",
    "[COST 231 final report, Chpt. 4, Sec. 4.4.1, Eq. 4.4.3. page 135](http://www.lx.it.pt/cost231/final_report.htm).\n",
    "\n",
    "> NOTE: contrarily to the previous one, this session will not include a lot of code. Still, you will most likely\n",
    "  need to import some code from session 1."
   ]
  },
  {
   "cell_type": "markdown",
   "metadata": {},
   "source": [
    "## 2.A: COST Hata model\n",
    "\n",
    "First, you need to **implement** the COST Hata model."
   ]
  },
  {
   "cell_type": "code",
   "execution_count": null,
   "metadata": {},
   "outputs": [],
   "source": [
    "# TODO: Implement these functions\n",
    "def alpha(\n",
    "    f: float, h_R: float\n",
    ") -> np.ndarray:\n",
    "    \"\"\"\n",
    "    Returns the height correction factor.\n",
    "    \"\"\"\n",
    "    return 0.0  # Change me\n",
    "\n",
    "def COST_Hata_loss(\n",
    "    f: float, h_B: float, d: np.ndarray, h_R: float, C_m: float\n",
    ") -> np.ndarray:\n",
    "    \"\"\"\n",
    "    Returns the median path loss (in dB).\n",
    "    \"\"\"\n",
    "    alpha = alpha(h_R, f)\n",
    "    return np.zeros_like(d) # Change me"
   ]
  }
 ],
 "metadata": {
  "kernelspec": {
   "display_name": "Python 3",
   "language": "python",
   "name": "python3"
  },
  "language_info": {
   "codemirror_mode": {
    "name": "ipython",
    "version": 3
   },
   "file_extension": ".py",
   "mimetype": "text/x-python",
   "name": "python",
   "nbconvert_exporter": "python",
   "pygments_lexer": "ipython3",
   "version": "3.8.5"
  }
 },
 "nbformat": 4,
 "nbformat_minor": 5
}
