{
 "cells": [
  {
   "cell_type": "markdown",
   "id": "7f9fe152-b14a-4468-bf63-75c71db045c2",
   "metadata": {
    "slideshow": {
     "slide_type": "slide"
    }
   },
   "source": [
    "# LELEC2796 - Wireless Communications - Project\n",
    "\n",
    "**Authors:** Guillaume Thiran & Jérome Eertmans\n",
    "\n",
    "**Teaching Assistant:** [Jérome Eertmans](mailto:jerome.eertmans@uclouvain.be)"
   ]
  },
  {
   "cell_type": "markdown",
   "id": "84e60102-c04f-4357-b734-08ddd9e28654",
   "metadata": {
    "slideshow": {
     "slide_type": "slide"
    }
   },
   "source": [
    "## Contents\n",
    "\n",
    "- [Objectives](#/2)\n",
    "- [Structure](#/3)\n",
    "- [Materials and Tools](#/4)\n",
    "- [Grading](#/5)"
   ]
  },
  {
   "cell_type": "markdown",
   "id": "1339ff26-f99a-4a72-b6a5-e93c453bccfa",
   "metadata": {
    "slideshow": {
     "slide_type": "slide"
    }
   },
   "source": [
    "## Objectives\n",
    "\n",
    "At the end of the project, we expect you to be able to:\n",
    "\n",
    "+ simulate a basic MIMO scenario and evaluate some performance\n",
    "  metrics from it;\n",
    "+ understand you model parameters and hypotheses;\n",
    "+ find models in the literature and criticise them;\n",
    "+ and deliver reproducible results in a documented Git."
   ]
  },
  {
   "cell_type": "markdown",
   "id": "e96168e4-50ea-48d0-ae80-f86fb2f1c1f5",
   "metadata": {
    "slideshow": {
     "slide_type": "slide"
    }
   },
   "source": [
    "## Structure\n",
    "\n",
    "The project will be divided in 6 project sessions and 2 evaluations:\n",
    "\n",
    "+ 3 guided sessions;\n",
    "+ 1 mid-term evaluation;\n",
    "+ 3 consultancy sessions;\n",
    "+ 1 final evaluation."
   ]
  },
  {
   "attachments": {},
   "cell_type": "markdown",
   "id": "4d4775ba",
   "metadata": {
    "slideshow": {
     "slide_type": "subslide"
    }
   },
   "source": [
    "### Structure - Planning\n",
    "\n",
    "<img alt=\"This year's planning\" width=\"600\" src=\"planning.png\">"
   ]
  },
  {
   "cell_type": "markdown",
   "id": "01f08f2a-6272-41cc-8200-35ba1882bde8",
   "metadata": {
    "slideshow": {
     "slide_type": "slide"
    }
   },
   "source": [
    "## Materials and Tools\n",
    "\n",
    "+ 3 project sessions using Jupyter Notebook (Python);\n",
    "+ 2 Python files, `cells.py` and `obstacles.py`, for reused code accross sessions;\n",
    "+ 1 `requirements.txt` files to install necessary modules;\n",
    "+ and 1 PDF document, `README.pdf`, a **must read**.\n",
    "\n",
    "Contents available on [eertmans.be/LELEC2796](https://eertmans.be/LELEC2796);"
   ]
  },
  {
   "cell_type": "markdown",
   "id": "129b33f6-c21f-4eb2-86f4-4ed90a37282a",
   "metadata": {
    "slideshow": {
     "slide_type": "slide"
    }
   },
   "source": [
    "## Grading\n",
    "\n",
    "The grade  is computed as follows: **Sessions** + **Oral** + **Git** + **Report** = **Grade**/20,\n",
    "\n",
    "where **Report** is a bonus (up to **3** points)."
   ]
  },
  {
   "cell_type": "markdown",
   "id": "508bba2f",
   "metadata": {
    "slideshow": {
     "slide_type": "subslide"
    }
   },
   "source": [
    "### Grading - Mid-term evaluation on sessions\n",
    "\n",
    "Goals:\n",
    "\n",
    "+ you have fullfilled the 3 guided sessions and can show it;\n",
    "+ you have decided a study case for your project."
   ]
  },
  {
   "cell_type": "markdown",
   "id": "f397b795",
   "metadata": {
    "slideshow": {
     "slide_type": "subslide"
    }
   },
   "source": [
    "### Grading - Final evaluation - Oral\n",
    "\n",
    "Contents:\n",
    "\n",
    "+ an introduction to your study case;\n",
    "+ the necessary mathematical details (e.g., a project about Ray Tracing might recall the foundamentals);\n",
    "+ your main contribution(s) and the results;\n",
    "+ a critical comparison with the scientific literature;\n",
    "+ some words of future work, the challenges you faced, and so on;\n",
    "+ and a conclusion.\n",
    "\n",
    "The presentation will be followed by some questions from the jury."
   ]
  },
  {
   "cell_type": "markdown",
   "id": "3426d357",
   "metadata": {
    "slideshow": {
     "slide_type": "subslide"
    }
   },
   "source": [
    "### Grading - Final evaluation - Reproducible results\n",
    "\n",
    "You must provide a Git repository to reproduce your results:\n",
    "\n",
    "+ document the steps to obtain the same results (e.g., plots) you presented;\n",
    "+ provide a concise installation procedure;\n",
    "+ and make sure the code is cleaned-up."
   ]
  },
  {
   "cell_type": "markdown",
   "id": "5e03ad4a",
   "metadata": {
    "slideshow": {
     "slide_type": "subslide"
    }
   },
   "source": [
    "### Grading - Final evaluation - Report\n",
    "\n",
    "An optional report (3-4 pages) with the following contents:\n",
    "\n",
    "+ some historical background or motivation for your study case;\n",
    "+ the mathematical details of your work;\n",
    "+ any useful figure to highlight your results;\n",
    "+ references to the literature;\n",
    "+ and anything else you might find interesting!"
   ]
  },
  {
   "cell_type": "markdown",
   "id": "5596c1b8",
   "metadata": {
    "slideshow": {
     "slide_type": "slide"
    }
   },
   "source": [
    "## Good work!"
   ]
  }
 ],
 "metadata": {
  "celltoolbar": "Slideshow",
  "kernelspec": {
   "display_name": "Python 3 (ipykernel)",
   "language": "python",
   "name": "python3"
  },
  "language_info": {
   "codemirror_mode": {
    "name": "ipython",
    "version": 3
   },
   "file_extension": ".py",
   "mimetype": "text/x-python",
   "name": "python",
   "nbconvert_exporter": "python",
   "pygments_lexer": "ipython3",
   "version": "3.10.12"
  }
 },
 "nbformat": 4,
 "nbformat_minor": 5
}
