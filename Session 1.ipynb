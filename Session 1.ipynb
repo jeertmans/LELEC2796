{
 "cells": [
  {
   "cell_type": "code",
   "execution_count": null,
   "metadata": {},
   "outputs": [],
   "source": [
    "from abc import ABC, abstractmethod\n",
    "from dataclasses import dataclass\n",
    "from typing import Optional, Any\n",
    "\n",
    "import numpy as np\n",
    "import matplotlib.pyplot as plt\n",
    "from scipy import integrate"
   ]
  },
  {
   "cell_type": "markdown",
   "metadata": {},
   "source": [
    "# Session 1: introduction to point processes\n",
    "\n",
    "When studying wireless communications, the performance of the employed communication schemes is often measured as an averaged quantity, such as the average throughput, or the Bit Error Rate (BER). To compute the average BER on a static channel, the noise realisations should be averaged out. Fading could also comes into play, in which case the error probability is averaged on both the noise and channel realisations. Moreover, it is also possible to consider the slow time channel variations, i.e., the shadowing. \n",
    "\n",
    "In these three cases (noise, fading, shadowing), the average quantity can either be determined analytically through Probability Density Functions (PDFs) integration, or through numerical simulations. In these latter, the followed approach is to draw samples of the random quantities, evaluate the performance for each sample draw, and then to take the average of the performances. This approach is named a **Monte-Carlo (MC) simulation**. \n",
    "\n",
    "Up to now, only the random quantities affecting a single point-to-point link have been discussed. Yet, to study the averaged link quality a user faces in the network, it is important to also consider the spatial distribution of a network as a random quantity. This approach, named **stochastic geometry**, can also be performed either analytically, or by means of Monte-Carlo methods.\n",
    "\n",
    "The aim of this first project session is to give an introduction to such network sptial distribution analysis. "
   ]
  },
  {
   "cell_type": "markdown",
   "metadata": {},
   "source": [
    "## 1.A: Average power on a regular grid\n",
    "\n",
    "First, let us consider a regular hexagonal grid with hexagon sidelength $R$. We are first interested in studying the average power a user receives from its associated Base Station (BS). To that aim, the power model (i.e., path loss model) is defined as \n",
    "\n",
    "$$ P(r) = \\frac{P_0}{\\left(h^2+r^2\\right)^{\\frac{\\alpha}{2}}},$$\n",
    "\n",
    "with $r$ the distance from the BS to the user, $h$ the BS height, $P0$ the received power at $r=0$ and $\\alpha$ the path loss exponent, belonging to $[2,4]$. The below function compute the received power of all the users whose distance to the BS is given in the numpy array *r*. "
   ]
  },
  {
   "cell_type": "code",
   "execution_count": null,
   "metadata": {},
   "outputs": [],
   "source": [
    "def received_power_r(r:np.ndarray, P0: float =10.0, h: float = 1.0, alpha: float=3.0):\n",
    "    #r is a 1D numpy array, being a list of distances between a BS and a user\n",
    "    Pr = P0 * (h**2+r**2)**(-alpha/2)\n",
    "    return Pr"
   ]
  },
  {
   "cell_type": "markdown",
   "metadata": {},
   "source": [
    "The following function does the same, but based on *x* and *y* coordinates. "
   ]
  },
  {
   "cell_type": "code",
   "execution_count": null,
   "metadata": {},
   "outputs": [],
   "source": [
    "def received_power(points:np.ndarray, P0: float =10.0, h: float = 1.0, alpha: float=3.0):\n",
    "    #the point array is a N by 2 array, with each line being the coordinates of a point\n",
    "    r = np.linalg.norm(points, axis=1)\n",
    "    Pr = received_power_r(r,P0=P0,h=h,alpha=alpha)\n",
    "    return Pr"
   ]
  },
  {
   "cell_type": "markdown",
   "metadata": {},
   "source": [
    "Before moving to the numerical part, let us compute analytically the average power a user is exposed to in an hexagonal cell."
   ]
  },
  {
   "cell_type": "markdown",
   "metadata": {},
   "source": [
    "1. Considering a user with a uniform spatial distribution inside an hexagonal cell of sidelength $R$, write the integral expression giving the average power received by the user from its serving BS.\n",
    "### <span style=\"color:red\"> *Answer*</span>\n",
    "Let $\\mathcal{H}$ denote the surface delimited by a regular hexagon of sidelength $R$. The average received power reads as \n",
    "$$ \\overline{P} = \\int_{\\mathcal{H}} P(r) \\frac{1}{|\\mathcal{H}|} \\mathrm{d}\\mathcal{H},$$\n",
    "with $|\\mathcal{H}|$ the area of $\\mathcal{H}$. By symmetry, the integral can be performed on a single triangle, leading to\n",
    "$$ \\overline{P} =  \\frac{6}{\\frac{3\\sqrt{3}R^2}{2}}\\left(\\int_{0}^{\\frac{R}{2}} \\int_{0}^{\\sqrt{3} x} P\\left(\\sqrt{x^2+y^2}\\right)  \\mathrm{d}x\\mathrm{d}y + \\int_{\\frac{R}{2}}^{R} \\int_{0}^{\\sqrt{3} (R-x)} P\\left(\\sqrt{x^2+y^2}\\right)  \\mathrm{d}x\\mathrm{d}y \\right).$$\n",
    "This can be furthermore simplified as \n",
    "$$ \\overline{P} =  \\frac{4\\sqrt{3}}{3 }\\left(\\int_{0}^{\\frac{1}{2}} \\int_{0}^{\\sqrt{3} u} P\\left(\\sqrt{(Ru)^2+(Rv)^2}\\right)  \\mathrm{d}u\\mathrm{d}v + \\int_{\\frac{1}{2}}^{1} \\int_{0}^{\\sqrt{3} (1-u)} P\\left(\\sqrt{(Ru)^2+(Rv)^2}\\right)  \\mathrm{d}u\\mathrm{d}v \\right),$$\n",
    "and using the power model, \n",
    "$$ \\overline{P} =  \\frac{4\\sqrt{3}P_0}{3 R^{\\alpha} }\\left(\\int_{0}^{\\frac{1}{2}} \\int_{0}^{\\sqrt{3} u} \\left(\\left(\\frac{h}{R}\\right)^2+u^2+v^2\\right)^{-\\frac{\\alpha}{2}}  \\mathrm{d}u\\mathrm{d}v + \\int_{\\frac{1}{2}}^{1} \\int_{0}^{\\sqrt{3} (1-u)} \\left(\\left(\\frac{h}{R}\\right)^2+u^2+v^2\\right)^{-\\frac{\\alpha}{2}}  \\mathrm{d}u\\mathrm{d}v \\right),$$\n",
    "\n",
    "2. This integral has no simple analytical expression. Implement the below function, computing the averaged received power for a user uniformly distributed in an hexagonal cell of radius *radius*, origin power *P0*, BS height *h*, and with a path loss exponent *alpha*.  \n"
   ]
  },
  {
   "cell_type": "code",
   "execution_count": null,
   "metadata": {},
   "outputs": [],
   "source": [
    "def averaged_power_hexagon_th(radius: float = 10, P0: float =10.0, h: float = 1.0, alpha: float=3.0):\n",
    "    \n",
    "    f = lambda y, x: received_power_r(r=np.sqrt(x**2+y**2), P0=P0, h=h, alpha=alpha)\n",
    "    \n",
    "    I1 = integrate.dblquad(f, 0, radius/2, 0, lambda x: np.sqrt(3)*x) \n",
    "    I2 = integrate.dblquad(f, radius/2, radius, 0, lambda x: np.sqrt(3)*(radius-x))\n",
    "    \n",
    "    powers_th_hex = (I1[0]+I2[0])*4/(np.sqrt(3)*radius**2)\n",
    "    return powers_th_hex"
   ]
  },
  {
   "cell_type": "markdown",
   "metadata": {},
   "source": [
    "3. Instead of this numerical integration, the problem can be tackled by approximating the hexagonal cell by a circular one, with the same radius. Obtain a closed-form expression of the averaged received power in this case. Will this average power be a lower or upper bound on the one for a hexagonal cell? \n",
    "\n",
    "### <span style=\"color:red\"> *Answer*</span>\n",
    "$$ \\overline{P}_{\\text{circ}} =  \\frac{1}{\\pi R^2} \\int_{0}^{2\\pi} \\int_{0}^{R} P\\left(r\\right)  r \\mathrm{d}r\\mathrm{d}\\theta ,\\\\\n",
    "\\iff \\overline{P}_{\\text{circ}} =  \\frac{P_0}{ R^2} \\int_{0}^{R} 2r \\left(h^2+r^2\\right)^{-\\frac{\\alpha}{2}} \\mathrm{d}r = \\frac{P_0}{R^{\\alpha}} \\int_{0}^{1} 2w \\left(\\left(\\frac{h}{R}\\right)^2+w^2\\right)^{-\\frac{\\alpha}{2}} \\mathrm{d}w,\\\\\n",
    "\\iff \\overline{P}_{\\text{circ}} =   \\frac{P_0}{R^{\\alpha}\\left(1-\\frac{\\alpha}{2}\\right)} \\left[ \\left(\\left(\\frac{h}{R}\\right)^2+w^2\\right)^{-\\frac{\\alpha}{2} +1} \\right]_0^1 =   \\frac{P_0}{R^{\\alpha}\\left(1-\\frac{\\alpha}{2}\\right)} \\left( \\left(\\left(\\frac{h}{R}\\right)^2+1\\right)^{-\\frac{\\alpha}{2} +1}  - \\left(\\frac{h}{R}\\right)^{-\\alpha+2} \\right) $$\n"
   ]
  },
  {
   "cell_type": "markdown",
   "metadata": {},
   "source": [
    "The three above questions are related to the analytical evaluation of the communication quality. This approach can now be compared to the Monte-Carlo framework. To that aim, the Points, Cell, Hexagon and Circle classes are defined as follows.\n"
   ]
  },
  {
   "cell_type": "code",
   "execution_count": null,
   "metadata": {},
   "outputs": [],
   "source": [
    "@dataclass\n",
    "class Points:\n",
    "    \"\"\"\n",
    "    2D points with x and y coordinates.\n",
    "    \"\"\"\n",
    "    array: np.ndarray\n",
    "        \n",
    "    @property\n",
    "    def x(self) -> np.ndarray:\n",
    "        return self.array[:, 0]\n",
    "        \n",
    "    @property\n",
    "    def y(self) -> np.ndarray:\n",
    "        return self.array[:, 1]\n",
    "    \n",
    "    def __len__(self):\n",
    "        return self.array.shape[0]\n",
    "    \n",
    "    def draw(self, ax: Optional[plt.Axes] = None, *args, **kwargs) -> Any:\n",
    "        if ax is None:\n",
    "            ax = plt.gca()\n",
    "        return ax.scatter(self.x, self.y, *args, **kwargs)\n",
    "\n",
    "class Cell(ABC):\n",
    "    \"\"\"\n",
    "    Abstract class for a cell.\n",
    "    \"\"\"\n",
    "    @abstractmethod\n",
    "    def sample(self, n: int) -> Points:\n",
    "        \"\"\"\n",
    "        Sample uniformly n points within the current cell.\n",
    "        \"\"\"\n",
    "        pass\n",
    "    \n",
    "    @abstractmethod\n",
    "    def draw(self, ax: Optional[plt.Axes] = None, *args, **kwargs):\n",
    "        \"\"\"\n",
    "        Draw the cell structure on the given axes.\n",
    "        \"\"\"\n",
    "        pass\n",
    "    \n",
    "@dataclass\n",
    "class Circle(Cell):\n",
    "    radius: float = 1.0\n",
    "    center: np.ndarray = np.array([0., 0.])\n",
    "        \n",
    "    def __post_init__(self):\n",
    "        self.center = np.asarray(self.center).reshape(1, 2)\n",
    "    \n",
    "    def sample(self, n: int) -> Points:\n",
    "        def sample_in_circle(n):\n",
    "            xy = np.random.rand(n, 2)\n",
    "            xy = (xy - .5) * (2 * self.radius)\n",
    "            r = np.linalg.norm(xy, axis=1)\n",
    "            \n",
    "            return xy[r <= self.radius, :]\n",
    "        \n",
    "        n2 = n << 1\n",
    "        xy = sample_in_circle(n2)\n",
    "        \n",
    "        while xy.shape[0] < n:\n",
    "            xy = sample_in_circle(n2)\n",
    "            \n",
    "        return Points(array=xy[:n, :] + self.center)\n",
    "    \n",
    "    def draw(self, ax: Optional[plt.Axes] = None, *args, fill=False, **kwargs):\n",
    "        if ax is None:\n",
    "            ax = plt.gca()\n",
    "        circle = plt.Circle(self.center.flatten(), self.radius, *args, fill=fill, **kwargs)\n",
    "        return ax.add_patch(circle)\n",
    "    \n",
    "@dataclass\n",
    "class Hexagon(Cell):\n",
    "    radius: float = 1.0\n",
    "    center: np.ndarray = np.array([0., 0.])\n",
    "    rotation: float = 0.0\n",
    "        \n",
    "    def __post_init__(self):\n",
    "        self.center = np.asarray(self.center).reshape(1, 2)\n",
    "      \n",
    "    @property\n",
    "    def corners_centered_array(self) -> np.ndarray:\n",
    "        zero = 0.\n",
    "        radi = self.radius\n",
    "        s3_2 = np.sqrt(3) * .5 * self.radius\n",
    "        ra_2 = self.radius * .5\n",
    "        array = np.array([\n",
    "            [+s3_2, +ra_2],\n",
    "            [+zero, +radi],\n",
    "            [-s3_2, +ra_2],\n",
    "            [-s3_2, -ra_2],\n",
    "            [+zero, -radi],\n",
    "            [+s3_2, -ra_2],\n",
    "        ])\n",
    "        return array\n",
    "    \n",
    "    @property\n",
    "    def rotation_array(self) -> np.ndarray:\n",
    "        cos = np.cos(self.rotation)\n",
    "        sin = np.sin(self.rotation)\n",
    "        \n",
    "        return np.array([\n",
    "            [+cos, -sin],\n",
    "            [+sin, +cos],\n",
    "        ])\n",
    "    \n",
    "    @property\n",
    "    def corners_centered(self) -> Points:\n",
    "        array = self.corners_centered_array\n",
    "        return Points(array=array)\n",
    "    \n",
    "    @property\n",
    "    def corners_array(self) -> np.ndarray:\n",
    "        array = self.corners_centered_array\n",
    "        array = (self.rotation_array @ array.T).T\n",
    "        return array + self.center\n",
    "        \n",
    "    @property\n",
    "    def corners(self) -> Points:\n",
    "        array = self.corners_array\n",
    "        return Points(array=array)\n",
    "    \n",
    "    def sample(self, n: int) -> Points:\n",
    "        def sample_in_hexagon(n):\n",
    "            \"\"\"\n",
    "            We check that points are in hexagon using\n",
    "            the 'cross product trick'.\n",
    "            \"\"\"\n",
    "            xy = np.random.rand(n, 2)\n",
    "            xy = (xy - .5) * (2 * self.radius)\n",
    "            corners = self.corners_centered_array\n",
    "            \n",
    "            # Vectors from points (samples) to each corner\n",
    "            v1 = - xy[:,:,None] + corners.T[None,:,:]\n",
    "            v2 = - xy[:,:,None] + np.roll(corners, 1, axis=0).T[None,:,:]\n",
    "            \n",
    "            cross = np.cross(v1, v2, axis=1)\n",
    "            \n",
    "            # Sum is 6 (or -6) if all the signs are the same\n",
    "            s = np.sum(np.sign(cross), axis=1)\n",
    "            index = np.abs(s) == 6\n",
    "            \n",
    "            return xy[index, :]\n",
    "        \n",
    "        n2 = n << 1\n",
    "        xy = sample_in_hexagon(n2)\n",
    "        \n",
    "        while xy.shape[0] < n:\n",
    "            xy = sample_in_hexagon(n2)\n",
    "            \n",
    "        xy = (self.rotation_array @ xy.T).T\n",
    "            \n",
    "        return Points(array=xy[:n, :] + self.center)\n",
    "    \n",
    "    def draw(self, ax: Optional[plt.Axes] = None, *args, fill=False, **kwargs):\n",
    "        if ax is None:\n",
    "            ax = plt.gca()\n",
    "        hexagon = plt.Polygon(self.corners_array, *args, fill=fill, **kwargs)\n",
    "        return ax.add_patch(hexagon)"
   ]
  },
  {
   "cell_type": "markdown",
   "metadata": {},
   "source": [
    "This classes can be used for instance as follows. "
   ]
  },
  {
   "cell_type": "code",
   "execution_count": null,
   "metadata": {},
   "outputs": [],
   "source": [
    "cell = Circle(radius=3)\n",
    "\n",
    "points = cell.sample(1000)\n",
    "\n",
    "plt.figure()\n",
    "cell.draw()\n",
    "points.draw()\n",
    "plt.title('Cell and sample points')\n",
    "\n",
    "coordinates = points.array\n",
    "Power_profile = received_power(coordinates)\n",
    "\n",
    "plt.figure()\n",
    "plt.hist(10*np.log10(Power_profile), density = True)\n",
    "plt.title('Received power histogram')\n",
    "plt.xlabel('Received power [dB]')"
   ]
  },
  {
   "cell_type": "markdown",
   "metadata": {},
   "source": [
    "4. Using the classes and functions defined below, implement a function which computes numerically the average power a user received if he is uniformly located in a cell.  "
   ]
  },
  {
   "cell_type": "code",
   "execution_count": null,
   "metadata": {},
   "outputs": [],
   "source": [
    "def averaged_power_hexagon_MC(radius: float = 10, P0: float =10.0, h: float = 1.0, alpha: float=3.0,n_samples: int = 1000):\n",
    "    cell = Hexagon(radius=radius)\n",
    "    points=cell.sample(n_samples)\n",
    "    powers = received_power(points.array, P0 = P0, h=h, alpha=alpha)\n",
    "    return np.mean(powers)"
   ]
  },
  {
   "cell_type": "markdown",
   "metadata": {},
   "source": [
    "5. Before actually computing the function, one of the key parameter of a network is the BS density, in [BS/unit area]. What is the link between the cell radius $R$ and the BS density $\\lambda$, for regular hexagonal cells? \n",
    "\n",
    "### <span style=\"color:red\"> *Answer*</span>\n",
    "The area of a regular hexagon is given by \n",
    "$$A = \\frac{3 \\sqrt{3}R^2}{2},$$\n",
    "leading to, since $ \\lambda  = \\frac{1}{A}$,  \n",
    "$$\\lambda =\\frac{2}{3 \\sqrt{3}R^2}.$$"
   ]
  },
  {
   "cell_type": "markdown",
   "metadata": {},
   "source": [
    "Using the above functions, compute the averaged received power for $P_0=10$, $h=1$, $\\alpha = 2,3,4$, and $\\lambda \\in [0.004,0.4]$, both in theory and with the Monte-Carlo method. Your results should be saved in the list *hexagon_results*, structured as follows:\n",
    "\n",
    "*[alpha_vec, lambda_vec, P0, h, powers_th_hex_0, powers_hex_0, powers_th_hex_1, powers_hex_1, ...].*"
   ]
  },
  {
   "cell_type": "code",
   "execution_count": null,
   "metadata": {},
   "outputs": [],
   "source": [
    "P0 = 10\n",
    "h=1\n",
    "alpha_vec = [2., 3., 4.]\n",
    "lambda_vec = np.linspace(0.004, 0.4,100)\n",
    "n_samples = 1000\n",
    "\n",
    "hexagon_results = [alpha_vec,lambda_vec, P0, h] #to save the parameters and results, in order to use them later on  \n",
    "\n",
    "for alpha in alpha_vec:\n",
    "    powers_hex = []\n",
    "    powers_th_hex = []\n",
    "    for lam in lambda_vec:\n",
    "        radius = np.sqrt(2/(3*np.sqrt(3) * lam))\n",
    "        #Theoretical computation\n",
    "        power_mean_th = averaged_power_hexagon_th(radius = radius, P0=P0, h=h, alpha = alpha)\n",
    "        powers_th_hex.append(power_mean_th)\n",
    "        \n",
    "        #MC method\n",
    "        power_mean = averaged_power_hexagon_MC(radius = radius, P0=P0, h=h, alpha = alpha,n_samples=n_samples)\n",
    "        powers_hex.append(power_mean)\n",
    "            \n",
    "    hexagon_results.append(powers_th_hex)\n",
    "    hexagon_results.append(powers_hex) "
   ]
  },
  {
   "cell_type": "markdown",
   "metadata": {},
   "source": [
    "Provide a graph showing the averaged received powers, in dB, as a function of the BS densities, and validate your analytical computation with the MC analysis."
   ]
  },
  {
   "cell_type": "code",
   "execution_count": null,
   "metadata": {},
   "outputs": [],
   "source": [
    "plt.figure()\n",
    "\n",
    "#hexagon results\n",
    "alpha_vec_hex = hexagon_results[0]\n",
    "lambda_vec_hex = hexagon_results[1]\n",
    "i_power_th = 4\n",
    "for alpha in alpha_vec_hex:\n",
    "    plt.plot(lambda_vec_hex, 10*np.log10(hexagon_results[i_power_th]), label=f\"Hex - th - alpha = {alpha}\")\n",
    "    plt.plot(lambda_vec_hex, 10*np.log10(hexagon_results[i_power_th+1]),'--',  label=f\"Hex - th - alpha = {alpha}\", linestyle = '--')\n",
    "    i_power_th += 2\n",
    "    \n",
    "plt.legend()\n",
    "plt.xlabel('BS density [BS/unit area]')\n",
    "plt.ylabel('Average received power')"
   ]
  },
  {
   "cell_type": "markdown",
   "metadata": {},
   "source": [
    "## 1.B Average power on a random grid\n",
    "\n",
    "In the above, the case of perfectly regular grids has been considered. Yet, this model does not reflect the inherent irregularity of real world networks. Therefore, another framework is the field of **point processes**, which enable to consider a given network topology a a realisation of a random variable. Then, the performances can be averaged out of all the network topologies. Many types of point processes exist, but we will consider in this project **Poisson Point Processes** (PPP), as they are known to provide quite tractable results. Such process is defined as follows. "
   ]
  },
  {
   "cell_type": "markdown",
   "metadata": {},
   "source": [
    "> Let $\\lambda$ be the point density, express in [points/unit area], and consider a given surface $\\mathcal{S}$ of area $A$. Then, a realisation of the Poisson point process with density $\\lambda$ is obtained by\n",
    "> - Drawing the number of points $N$ from a Poisson distribution with parameter $\\lambda A$, whose PDF is given by $f(N=n) = \\frac{(\\lambda A)^n e^{-\\lambda A}}{n!}$.\n",
    "> - Picking the position of these points (i.e. $x$ and $y$ coordinates) independently and uniformly at random in $\\mathcal{S}$. \n",
    "\n",
    "Implement the below function, which return a realisation of a Poisson point process of point density $\\lambda$ in the centered square of sidelength $L$. "
   ]
  },
  {
   "cell_type": "code",
   "execution_count": null,
   "metadata": {},
   "outputs": [],
   "source": [
    "def PPP_sampling(lam: float =0.03, L: float = 10.0):\n",
    "    N = np.random.poisson(lam*L**2)\n",
    "    points_init = np.random.rand(N,2)\n",
    "    Points = (points_init-0.5)*L\n",
    "    return Points"
   ]
  },
  {
   "cell_type": "markdown",
   "metadata": {},
   "source": [
    "The following shows one realiseation of a PPP, with the BSs represented with blue dots, and the cells delimited by black lines."
   ]
  },
  {
   "cell_type": "code",
   "execution_count": null,
   "metadata": {},
   "outputs": [],
   "source": [
    "from scipy.spatial import Voronoi, voronoi_plot_2d\n",
    "\n",
    "points = PPP_sampling(0.004,100)\n",
    "vor = Voronoi(points)\n",
    "fig = voronoi_plot_2d(vor,show_vertices=False)\n",
    "plt.show()"
   ]
  },
  {
   "cell_type": "markdown",
   "metadata": {},
   "source": [
    "To study the mean downlink power across a network, one should do the following. \n",
    "> Given a large region $\\mathcal{S}$, a PPP with density $\\lambda_{\\text{BS}}$ should be generated, representing the BSs. A second PPP with density $\\lambda_{\\text{UE}}$ sould also be generated, being the User Equipments (UEs). Then, for each UE, the closest BS could be determined and the power could be computed. This process can be repeated $N_{\\text{geo}}$ times in order to obtain different PPP realisations. \n",
    "\n",
    "In this procedure, the UEs located near the boundary of $\\mathcal{S}$ should not be taken into account as they might suffer from boundary effects. \n",
    "\n",
    "Implement this Monte-Carlo sampling method in the below function, with a BS PPP of density *lam_BS*, a UE PPP of density *lam_UE*, a power *P0*, a BS height *h*, a path loss exponent *alpha*, for *N_geo* PPP draws inside a centered square of size *L*. Perform the average only on the UE located in a centered square of sidelength *L_av* to avoid boundary effect. With these parameters, this function should return the average power a user gets from its closest BS. "
   ]
  },
  {
   "cell_type": "code",
   "execution_count": null,
   "metadata": {},
   "outputs": [],
   "source": [
    "def averaged_power_PPP_MC_v1(lam_BS: float =0.03, lam_UE: float =0.03, P0: float =10.0, h: float = 1.0, alpha: float=3.0,N_geo: int = 20, L: float = 100.0, L_av : float = 50.0):\n",
    "    Power_list  = []\n",
    "    \n",
    "    for m in range(N_geo):\n",
    "        points_BS = PPP_sampling(lam = lam_BS, L = L)\n",
    "        points_UE = PPP_sampling(lam= lam_UE, L = L)\n",
    "        N_UE = np.shape(points_UE)[0]\n",
    "        for n in range(N_UE):\n",
    "            if  np.abs(points_UE[n,0])<=L_av and np.abs(points_UE[n,1])<=L_av:\n",
    "                distance = np.sqrt((points_BS[:,0]-points_UE[n,0])**2 + (points_BS[:,1]-points_UE[n,1])**2)\n",
    "                d_min = np.min(distance)\n",
    "                Power = received_power_r(d_min, P0 = P0, h = h, alpha = alpha)\n",
    "                Power_list.append(Power)\n",
    "    \n",
    "    mean_power = np.mean(Power_list)\n",
    "    return mean_power"
   ]
  },
  {
   "cell_type": "markdown",
   "metadata": {},
   "source": [
    "Using the above functions, compute the averaged received power for $P_0=10$, $h=1$, $\\alpha = 2,3,4$, $\\lambda_{\\text{BS}} \\in [0.004,0.4]$, $\\lambda_{\\text{UE}}=0.03$, $L=100$, $L_{\\text{av}}=50$ and $N_{\\text{geo}}=20$. Save your results in the list *PPP_results_1*, structured as follows:\n",
    "\n",
    "*[alpha_vec, lambda_vec, lambda_UE, P0, h, mean_power_0,mean_power_1, mean_power_2, ...].*"
   ]
  },
  {
   "cell_type": "code",
   "execution_count": null,
   "metadata": {},
   "outputs": [],
   "source": [
    "alpha_vec = [2., 3., 4.]\n",
    "N_geo = 20\n",
    "lam_UE = 0.03\n",
    "P0 = 10\n",
    "h = 1\n",
    "L=100\n",
    "L_av = 50\n",
    "\n",
    "N_lam = 100\n",
    "lambda_vec = np.linspace(0.004, 0.4,100)\n",
    "\n",
    "PPP_results_1 = [alpha_vec,lambda_vec, lam_UE, P0, h] #to save the parameters and results, in order to use them later on  \n",
    "\n",
    "for alpha in alpha_vec:   \n",
    "    mean_power = np.zeros((N_lam,)) \n",
    "    for l in range(N_lam):\n",
    "        lam = lambda_vec[l]\n",
    "        mean_power[l] = averaged_power_PPP_MC_v1(lam_BS=lam, lam_UE = lam_UE, P0 = P0, h = h, alpha = alpha,N_geo = N_geo, L = L, L_av  = L_av)\n",
    "    \n",
    "    PPP_results_1.append(mean_power)"
   ]
  },
  {
   "cell_type": "markdown",
   "metadata": {},
   "source": [
    "Provide a graph showing the averaged received powers, in dB, as a function of the BS densities, and compare your PPP results with the hexagonal ones. "
   ]
  },
  {
   "cell_type": "code",
   "execution_count": null,
   "metadata": {},
   "outputs": [],
   "source": [
    "plt.figure()\n",
    "\n",
    "#hexagon results\n",
    "alpha_vec_hex = hexagon_results[0]\n",
    "lambda_vec_hex = hexagon_results[1]\n",
    "i_power_th = 4\n",
    "for alpha in alpha_vec_hex:\n",
    "    plt.plot(lambda_vec_hex, 10*np.log10(hexagon_results[i_power_th]), label=f\"Hex - th - alpha = {alpha}\", linestyle = '--')\n",
    "    i_power_th += 2\n",
    "\n",
    "plt.gca().set_prop_cycle(None) #reset color cyle\n",
    "    \n",
    "#PPP results - method 1\n",
    "alpha_vec_PPP = PPP_results_1[0]\n",
    "lambda_vec_PPP = PPP_results_1[1]\n",
    "i_power_th = 5\n",
    "for alpha in alpha_vec_PPP:\n",
    "    plt.plot(lambda_vec_PPP, 10*np.log10(PPP_results_1[i_power_th]), label=f\"PPP - alpha = {alpha}\")\n",
    "    i_power_th += 1\n",
    "\n",
    "\n",
    "plt.legend()\n",
    "plt.xlabel('BS density [BS/unit area]')\n",
    "plt.ylabel('Average received power')"
   ]
  },
  {
   "cell_type": "markdown",
   "metadata": {},
   "source": [
    "The above Monte-Carlo (MC) method can be simplified when one is interested in a single user, or a single BS. Indeed, one of the property of a PPP is that a single point can be added to the PPP without modifying the PPP properties. This means that without loss of generality, a UE can be added at $(x,y)=(0,0)$. Then, since this user is identical (i.e., it sees the same statistical processes) to the other users, it can be considered **typical** and the mean power can only be computed for this representative user. Yet, with respect to the first method, more geometries need to be generated since a single power realisation is obtained for each draw. \n",
    "\n",
    "The Monte-Carlo simulation takes then the following form. \n",
    "\n",
    "> Given a region $\\mathcal{S}$, a PPP with density $\\lambda_{\\text{BS}}$ should be generated, representing the BS. A typical UE is located at $(x,y) = (0,0)$, and the power coming from the closest BS can be computed. This process is repeated $N_{\\text{geo}}$ times in order to explore different PPP realisations. \n",
    "\n",
    "Implement this second Monte-Carlo sampling method in the below function, with a BS PPP of density *lam_BS*, a power *P0*, a BS height *h*, a path loss exponent *alpha*, for *N_geo* PPP draws inside a centered square of size *L*. With these parameters, this function should return the average power a user gets from its closest BS. "
   ]
  },
  {
   "cell_type": "code",
   "execution_count": null,
   "metadata": {},
   "outputs": [],
   "source": [
    "def averaged_power_PPP_MC_v2(lam_BS: float =0.03, P0: float =10.0, h: float = 1.0, alpha: float=3.0,N_geo: int = 2000, L: float = 30.0):\n",
    "    Power_array  = np.zeros((N_geo,))\n",
    "    \n",
    "    for m in range(N_geo):\n",
    "        points_BS = PPP_sampling(lam = lam_BS, L = L)\n",
    "        \n",
    "        distance = np.sqrt((points_BS[:,0])**2 + (points_BS[:,1])**2)\n",
    "        d_min = np.min(distance)\n",
    "        Power_array[m] = received_power_r(d_min, P0 = P0, h = h, alpha = alpha)\n",
    "        \n",
    "    mean_power = np.mean(Power_array)\n",
    "    return mean_power"
   ]
  },
  {
   "cell_type": "markdown",
   "metadata": {},
   "source": [
    "Using the above function, compute the averaged received power for $P_0=10$, $h=1$, $\\alpha = 2,3,4$, $\\lambda_{\\text{BS}} \\in [0.004,0.4]$, $L=100$, and $N_{\\text{geo}}=2000$. Save your results in the list *PPP_results_2*, structured as follows:\n",
    "\n",
    "*[alpha_vec, lambda_vec, P0, h, mean_power_0,mean_power_1, mean_power_2, ...].*"
   ]
  },
  {
   "cell_type": "code",
   "execution_count": null,
   "metadata": {},
   "outputs": [],
   "source": [
    "alpha_vec = [2., 3., 4.]\n",
    "N_geo = 2000\n",
    "P0 = 10\n",
    "h = 1\n",
    "L=100\n",
    "N_lam = 100\n",
    "lambda_vec = np.linspace(0.004, 0.4,100)\n",
    "\n",
    "PPP_results_2 = [alpha_vec,lambda_vec, P0, h] #to save the parameters and results, in order to use them later on  \n",
    "\n",
    "for alpha in alpha_vec:   \n",
    "    mean_power = np.zeros((N_lam,)) \n",
    "    for l in range(N_lam):\n",
    "        lam = lambda_vec[l]\n",
    "        mean_power[l] = averaged_power_PPP_MC_v2(lam_BS=lam, P0 = P0, h = h, alpha = alpha,N_geo = N_geo, L = L)\n",
    "    \n",
    "    PPP_results_2.append(mean_power)"
   ]
  },
  {
   "cell_type": "markdown",
   "metadata": {},
   "source": [
    "Provide a graph showing the averaged received powers, in dB, as a function of the BS densities, for the hexagonal cells, the first MC method and the second Verify that both PPP methods indeed gives the same results. "
   ]
  },
  {
   "cell_type": "code",
   "execution_count": null,
   "metadata": {},
   "outputs": [],
   "source": [
    "plt.figure()\n",
    "\n",
    "#hexagon results\n",
    "alpha_vec_hex = hexagon_results[0]\n",
    "lambda_vec_hex = hexagon_results[1]\n",
    "i_power_th = 4\n",
    "for alpha in alpha_vec_hex:\n",
    "    plt.plot(lambda_vec_hex, 10*np.log10(hexagon_results[i_power_th]), label=f\"Hex - th - alpha = {alpha}\", linestyle = 'dotted')\n",
    "    i_power_th += 2\n",
    "\n",
    "plt.gca().set_prop_cycle(None) #reset color cyle\n",
    "    \n",
    "#PPP results - method 1\n",
    "alpha_vec_PPP = PPP_results_1[0]\n",
    "lambda_vec_PPP = PPP_results_1[1]\n",
    "i_power_th = 5\n",
    "for alpha in alpha_vec_PPP:\n",
    "    plt.plot(lambda_vec_PPP, 10*np.log10(PPP_results_1[i_power_th]), label=f\"PPP_v1 - alpha = {alpha}\", linestyle = '--')\n",
    "    i_power_th += 1\n",
    "\n",
    "plt.gca().set_prop_cycle(None) #reset color cyle\n",
    "    \n",
    "#PPP results - method 2\n",
    "alpha_vec_PPP_2 = PPP_results_2[0]\n",
    "lambda_vec_PPP_2 = PPP_results_2[1]\n",
    "i_power_th = 4\n",
    "for alpha in alpha_vec_PPP_2:\n",
    "    plt.plot(lambda_vec_PPP_2, 10*np.log10(PPP_results_2[i_power_th]), label=f\"PPP_v2 - alpha = {alpha}\")\n",
    "    i_power_th += 1\n",
    "    \n",
    "\n",
    "plt.legend()\n",
    "plt.xlabel('BS density [BS/unit area]')\n",
    "plt.ylabel('Average received power')"
   ]
  },
  {
   "cell_type": "markdown",
   "metadata": {},
   "source": [
    "To conclude this part, it should be emphasised that the Poisson property of the PPP have not be utilised, and that any other point process could have been considered in the above. In fact, the Poisson property of a PPP is particularly useful when considering such problem from their analytic counterparts. Yet, such analytic development is not the aim of this project and we will always consider Monte-Carlo simulations to evaluate the performances in the following. "
   ]
  },
  {
   "cell_type": "markdown",
   "metadata": {},
   "source": [
    "## 1.C Power distribution\n",
    "\n",
    "While the average power is an interesting quantity, it does not capture the full experience of a UE. Indeed, for the same average value, one could encounter very low and very high power values, or experience an almost constant power level. Hence, it is often interesting to compute the full Probability Density Function (PDF) of the quantity of interest, here the received power.\n",
    "\n",
    "For $\\alpha = 3$, compute a list of received power realisation for $P_0=10$, $h=1$, $\\lambda_{\\text{BS}} \\in [0.004, 0.2 ,0.4]$, $L=100$, and $N_{\\text{geo}}=20000$. Do this for the hexagon case, and the PPP case. Save your results in the list *Density_results*, structured as follows:\n",
    "\n",
    "*[alpha, lambda_vec, P0, h, powers_hex_0, powers_PPP_0, powers_hex_1, powers_PPP_1 ...].*"
   ]
  },
  {
   "cell_type": "code",
   "execution_count": null,
   "metadata": {},
   "outputs": [],
   "source": [
    "alpha = 3.0\n",
    "N_geo = 20000\n",
    "P0 = 10\n",
    "h = 1\n",
    "L=100\n",
    "lambda_vec = np.array([0.004, 0.2, 0.4])\n",
    "N_lam = len(lambda_vec)\n",
    "\n",
    "Density_results = [alpha,lambda_vec, P0, h] #to save the parameters and results, in order to use them later on  \n",
    "\n",
    "for l in range(N_lam):\n",
    "    lam = lambda_vec[l]\n",
    "    \n",
    "    #Hexagons \n",
    "    radius = np.sqrt(2/(3*np.sqrt(3) * lam))\n",
    "    cell = Hexagon(radius=radius)\n",
    "    points=cell.sample(N_geo)\n",
    "    powers_hex = received_power(points.array, P0 = P0, h=h, alpha=alpha)    \n",
    "    Density_results.append(powers_hex)\n",
    "    \n",
    "    #PPP\n",
    "    powers_PPP = np.zeros((N_geo,))\n",
    "    for m in range(N_geo):\n",
    "        points_BS = PPP_sampling(lam = lam, L = L)\n",
    "        distance = np.sqrt((points_BS[:,0])**2 + (points_BS[:,1])**2)\n",
    "        d_min = np.min(distance)\n",
    "        powers_PPP[m] = received_power_r(d_min, P0 = P0, h = h, alpha = alpha)\n",
    "    \n",
    "    Density_results.append(powers_PPP)"
   ]
  },
  {
   "cell_type": "markdown",
   "metadata": {},
   "source": [
    "From the power realisations computed above, draw an histogram of the received power, in dB, for the different densities. Compare the distributions of the hexagonal cell and the results obtained through the PPP approach."
   ]
  },
  {
   "cell_type": "code",
   "execution_count": null,
   "metadata": {},
   "outputs": [],
   "source": [
    "plt.figure()\n",
    "n_bins = 30\n",
    "\n",
    "lambda_vec = Density_results[1]\n",
    "i_power = 4\n",
    "for lam in lambda_vec:\n",
    "    powers_hex = Density_results[i_power]\n",
    "    hist_hex, bin_edges_hex = np.histogram(10*np.log10(powers_hex), bins = n_bins,density = True)\n",
    "    plt.plot(bin_edges_hex[:-1],hist_hex,'--', label=f\"hex - lambda = {lam}\")\n",
    "    i_power+=2\n",
    "\n",
    "plt.gca().set_prop_cycle(None) #reset color cyle\n",
    "    \n",
    "i_power = 5\n",
    "for lam in lambda_vec:\n",
    "    Power_array = Density_results[i_power]\n",
    "    hist_PPP, bin_edges_PPP = np.histogram(10*np.log10(Power_array), bins = n_bins,density = True)\n",
    "    plt.plot(bin_edges_PPP[:-1],hist_PPP, label=f\"PPP - lambda = {lam}\")\n",
    "    i_power+=2\n",
    "    \n",
    "plt.legend()\n",
    "plt.xlabel('Received power [dB]')\n",
    "plt.title('Received power PDF')"
   ]
  },
  {
   "cell_type": "markdown",
   "metadata": {},
   "source": [
    "The above figure shows a representation of the PDF of the received power. Yet, people are most often concerned about ensuring some value is about a threshold (large enough rate, large enough SINR, low enough exposure, etc.). Therefore, it is sometimes more useful to compute the complementary cumulative distribution function, i.e. $\\mathbb{P}\\left[X\\geq x\\right]$. Obtain such figure from the above PDFs. "
   ]
  },
  {
   "cell_type": "code",
   "execution_count": null,
   "metadata": {},
   "outputs": [],
   "source": [
    "plt.figure()\n",
    "n_bins = 30\n",
    "\n",
    "lambda_vec = Density_results[1]\n",
    "i_power = 4\n",
    "for lam in lambda_vec:\n",
    "    powers_hex = Density_results[i_power]\n",
    "    hist_hex, bin_edges_hex = np.histogram(10*np.log10(powers_hex), bins = n_bins,density = True)\n",
    "    \n",
    "    CDF_hex = np.cumsum(hist_hex*np.diff(bin_edges_hex))\n",
    "    CCDF_hex = 1-CDF_hex\n",
    "    plt.plot(bin_edges_hex[:-1],CCDF_hex, '--', label=f\"hex - lambda = {lam}\")\n",
    "    \n",
    "    i_power+=2\n",
    "\n",
    "plt.gca().set_prop_cycle(None) #reset color cyle\n",
    "    \n",
    "i_power = 5\n",
    "for lam in lambda_vec:\n",
    "    Power_array = Density_results[i_power]\n",
    "    hist_PPP, bin_edges_PPP = np.histogram(10*np.log10(Power_array), bins = n_bins,density = True)\n",
    "    \n",
    "    CDF_PPP = np.cumsum(hist_PPP*np.diff(bin_edges_PPP))\n",
    "    CCDF_PPP = 1-CDF_PPP\n",
    "    plt.plot(bin_edges_PPP[:-1],CCDF_PPP, label=f\"PPP - lambda = {lam}\")\n",
    "    \n",
    "    \n",
    "    i_power+=2\n",
    "    \n",
    "plt.legend()\n",
    "plt.xlabel('Received power [dB]')\n",
    "plt.title('Received power CCDF')"
   ]
  },
  {
   "cell_type": "markdown",
   "metadata": {},
   "source": [
    "## 1.D Average exposure on a random grid\n",
    "\n",
    "The above focuses on the average power received from the BS serving a UE. While this is already very interesting, this does not fully use the power of the framework of point processes. Indeed, a single user and a singly BS are considered, and thus one could avoir generating the whole network to evaluate the performance.  \n",
    "\n",
    "To investigate the use of point processes, one can consider the exposure a UE gets in a network, i.e. the sum of the power coming from all the BSs. \n",
    "\n",
    "Implement a Monte-Carlo method investigating how the exposure evolves with the BS density, for $P_0=10$, $h=1$, $\\alpha = 2,3,4$, and $\\lambda \\in [0.004,0.4]$, and $N_{\\text{geo}} = 2000$. Consider only the second way of doing the Monte-Carlo simulation, i.e., with a centered typical user. You can use a square $\\mathcal{S}$ of length $100$. "
   ]
  },
  {
   "cell_type": "code",
   "execution_count": null,
   "metadata": {},
   "outputs": [],
   "source": [
    "def averaged_exposure_PPP_MC(lam_BS: float =0.03, P0: float =10.0, h: float = 1.0, alpha: float=3.0,N_geo: int = 2000, L: float = 30.0):\n",
    "    Exposure_array  = np.zeros((N_geo,))\n",
    "    \n",
    "    for m in range(N_geo):\n",
    "        points_BS = PPP_sampling(lam = lam_BS, L = L)\n",
    "        \n",
    "        distance = np.sqrt((points_BS[:,0])**2 + (points_BS[:,1])**2)\n",
    "        Powers = received_power_r(distance, P0 = P0, h = h, alpha = alpha)\n",
    "        Exposure_array[m] = np.sum(Powers)\n",
    "        \n",
    "    mean_exposure = np.mean(Exposure_array)\n",
    "    return mean_exposure"
   ]
  },
  {
   "cell_type": "code",
   "execution_count": null,
   "metadata": {},
   "outputs": [],
   "source": [
    "alpha_vec = [2., 3., 4.]\n",
    "N_geo = 2000\n",
    "P0 = 10\n",
    "h = 1\n",
    "L=100\n",
    "N_lam = 100\n",
    "lambda_vec = np.linspace(0.004, 0.4,100)\n",
    "\n",
    "PPP_results_exposure = [alpha_vec,lambda_vec, P0, h] #to save the parameters and results, in order to use them later on  \n",
    "\n",
    "for alpha in alpha_vec:   \n",
    "    mean_exposure = np.zeros((N_lam,)) \n",
    "    for l in range(N_lam):\n",
    "        lam = lambda_vec[l]\n",
    "        mean_exposure[l] = averaged_exposure_PPP_MC(lam_BS=lam, P0 = P0, h = h, alpha = alpha,N_geo = N_geo, L = L)\n",
    "    \n",
    "    PPP_results_exposure.append(mean_exposure)"
   ]
  },
  {
   "cell_type": "code",
   "execution_count": null,
   "metadata": {},
   "outputs": [],
   "source": [
    "#PPP results\n",
    "alpha_vec_PPP_2 = PPP_results_exposure[0]\n",
    "lambda_vec_PPP_2 = PPP_results_exposure[1]\n",
    "i_power_th = 4\n",
    "for alpha in alpha_vec_PPP_2:\n",
    "    plt.plot(lambda_vec_PPP_2, 10*np.log10(PPP_results_exposure[i_power_th]), label=f\"PPP_v2 - alpha = {alpha}\")\n",
    "    i_power_th += 1\n",
    "    \n",
    "plt.legend()\n",
    "plt.xlabel('BS density [BS/unit area]')\n",
    "plt.ylabel('Average exposure')"
   ]
  },
  {
   "cell_type": "code",
   "execution_count": null,
   "metadata": {},
   "outputs": [],
   "source": [
    "#Implement Monte-Carlo simulation - exposure\n",
    "alpha = 2.0\n",
    "N_geo = 20000\n",
    "P0 = 10\n",
    "h = 1\n",
    "L=100\n",
    "lambda_vec = np.array([0.004, 0.2, 0.4])\n",
    "N_lam = len(lambda_vec)\n",
    "\n",
    "Density_exp_results = [alpha,lambda_vec, P0, h] #to save the parameters and results, in order to use them later on  \n",
    "\n",
    "for l in range(N_lam):\n",
    "    lam = lambda_vec[l]\n",
    "    \n",
    "    #PPP\n",
    "    Exposure_PPP = np.zeros((N_geo,))\n",
    "    for m in range(N_geo):\n",
    "        points_BS = PPP_sampling(lam = lam, L = L)\n",
    "        distance = np.sqrt((points_BS[:,0])**2 + (points_BS[:,1])**2)\n",
    "        powers = received_power_r(distance, P0 = P0, h = h, alpha = alpha)\n",
    "        Exposure_PPP[m] = np.sum(powers)\n",
    "        \n",
    "    Density_exp_results.append(Exposure_PPP)"
   ]
  },
  {
   "cell_type": "code",
   "execution_count": null,
   "metadata": {},
   "outputs": [],
   "source": [
    "plt.figure()\n",
    "n_bins = 30\n",
    "\n",
    "lambda_vec = Density_exp_results[1]\n",
    "i_power = 4\n",
    "for lam in lambda_vec:\n",
    "    Exp_array = Density_exp_results[i_power]\n",
    "    hist_PPP, bin_edges_PPP = np.histogram(10*np.log10(Exp_array), bins = n_bins,density = True)\n",
    "    plt.plot(bin_edges_PPP[:-1],hist_PPP, label=f\"PPP - lambda = {lam}\")\n",
    "    i_power+=1\n",
    "    \n",
    "plt.legend()\n",
    "plt.xlabel('Exposure [dB]')\n",
    "plt.title('Exposure PDF')"
   ]
  },
  {
   "cell_type": "code",
   "execution_count": null,
   "metadata": {},
   "outputs": [],
   "source": [
    "plt.figure()\n",
    "n_bins = 30\n",
    "\n",
    "i_power = 4\n",
    "for lam in lambda_vec:\n",
    "    Exp_array = Density_exp_results[i_power]\n",
    "    hist_PPP, bin_edges_PPP = np.histogram(10*np.log10(Exp_array), bins = n_bins,density = True)\n",
    "    \n",
    "    CDF_PPP = np.cumsum(hist_PPP*np.diff(bin_edges_PPP))\n",
    "    CCDF_PPP = 1-CDF_PPP\n",
    "    plt.plot(bin_edges_PPP[:-1],CCDF_PPP, label=f\"PPP - lambda = {lam}\")\n",
    "    \n",
    "    \n",
    "    i_power+=1\n",
    "    \n",
    "plt.legend()\n",
    "plt.xlabel('Exposure [dB]')\n",
    "plt.title('Exposure CCDF')"
   ]
  },
  {
   "cell_type": "code",
   "execution_count": null,
   "metadata": {},
   "outputs": [],
   "source": []
  }
 ],
 "metadata": {
  "kernelspec": {
   "display_name": "Python 3",
   "language": "python",
   "name": "python3"
  },
  "language_info": {
   "codemirror_mode": {
    "name": "ipython",
    "version": 3
   },
   "file_extension": ".py",
   "mimetype": "text/x-python",
   "name": "python",
   "nbconvert_exporter": "python",
   "pygments_lexer": "ipython3",
   "version": "3.8.5"
  }
 },
 "nbformat": 4,
 "nbformat_minor": 5
}
