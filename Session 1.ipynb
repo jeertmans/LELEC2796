{
 "cells": [
  {
   "cell_type": "code",
   "execution_count": null,
   "metadata": {},
   "outputs": [],
   "source": [
    "from abc import ABC, abstractmethod\n",
    "from dataclasses import dataclass\n",
    "from typing import Optional, Any\n",
    "\n",
    "import numpy as np\n",
    "import matplotlib.pyplot as plt"
   ]
  },
  {
   "cell_type": "markdown",
   "metadata": {},
   "source": [
    "# Session 1: introduction to point processes\n",
    "\n",
    "When studying wireless communications, the performance of the employed communication schemes is often measured as an averaged quantity, such as the average throughput, or the Bit Error Rate (BER). To compute the average BER on a static channel, the noise realisations should be averaged out. Fading could also comes into play, in which case the error probability is averaged on both the noise and channel realisations. Moreover, it is also possible to consider the slow time channel variations, i.e., the shadowing. \n",
    "\n",
    "In these three cases (noise, fading, shadowing), the average quantity can either be determined analytically through Probability Density Functions (PDFs) integration, or through numerical simulations. In these latter, the followed approach is to draw samples of the random quantities, evaluate the performance for each sample draw, and then to take the average of the performances. This approach is named a **Monte-Carlo simulation**. \n",
    "\n",
    "Up to now, only the random quantities affecting a single point-to-point link have been discussed. Yet, to study the averaged link quality a user faces in the network, it is important to also consider the spatial distribution of a network as a random quantity. This approach, named **stochastic geometry**, can also be performed either analytically, or by means of Monte-Carlo methods.\n",
    "\n",
    "The aim of this first project session is to give an introduction to such network sptial distribution analysis. "
   ]
  },
  {
   "cell_type": "markdown",
   "metadata": {},
   "source": [
    "## 1.A: Average power on a regular grid\n",
    "\n",
    "First, let us consider a regular hexagonal grid with hexagon sidelength $R$. We are first interested in studying the average power a user receives from its associated Base Station (BS). To that aim, the path loss model is defined as \n",
    "\n",
    "$$ L(r) = \\frac{L_0}{\\left(h^2+r^2\\right)^{\\frac{\\alpha}{2}}},$$\n",
    "\n",
    "with $r$ the distance from the BS to the user, $h$ the BS height, $L_0$ the path loss at $r=0$ and $\\alpha$ the path loss exponent, belonging to $[2,4]$. "
   ]
  },
  {
   "cell_type": "markdown",
   "metadata": {},
   "source": [
    "1. Considering a user with a uniform spatial distribution, write the integral expression giving the average power received by the user from its serving BS.\n",
    "2. This integral is difficult to obtain analytically. Obtain numerically its value for $L_0=1$, $h=1$, $\\alpha = 2,3,4$, and $R\\in [0,10]$. \n",
    "3. Instead of this numerical integration, the problem can be tackled by approximating the hexagonal cell by a circular one, with a radius $\\tilde{R}$. Obtain a closed-form expression of the averaged received power in this case. To be fair, Let $\\tilde{R}$ be chosen so as to have the same area the hexagonal cell. "
   ]
  },
  {
   "cell_type": "markdown",
   "metadata": {},
   "source": [
    "The three above questions are related to the analytical evaluation of the communication quality. This approach can now be compared to the Monte-Carlo framework. \n",
    "\n",
    "4. Using the classes and functions defined below, valide the results obtained analytically, both for the hexagonal and circular cell. "
   ]
  },
  {
   "cell_type": "code",
   "execution_count": null,
   "metadata": {},
   "outputs": [],
   "source": [
    "@dataclass\n",
    "class Points:\n",
    "    \"\"\"\n",
    "    2D points with x and y coordinates.\n",
    "    \"\"\"\n",
    "    array: np.ndarray\n",
    "        \n",
    "    @property\n",
    "    def x(self) -> np.ndarray:\n",
    "        return self.array[:, 0]\n",
    "        \n",
    "    @property\n",
    "    def y(self) -> np.ndarray:\n",
    "        return self.array[:, 1]\n",
    "    \n",
    "    def __len__(self):\n",
    "        return self.array.shape[0]\n",
    "    \n",
    "    def draw(self, ax: Optional[plt.Axes] = None, *args, **kwargs) -> Any:\n",
    "        if ax is None:\n",
    "            ax = plt.gca()\n",
    "        return ax.scatter(self.x, self.y, *args, **kwargs)\n",
    "\n",
    "class Cell(ABC):\n",
    "    \"\"\"\n",
    "    Abstract class for a cell.\n",
    "    \"\"\"\n",
    "    @abstractmethod\n",
    "    def sample(self, n: int) -> Points:\n",
    "        \"\"\"\n",
    "        Sample uniformly n points within the current cell.\n",
    "        \"\"\"\n",
    "        pass\n",
    "    \n",
    "    @abstractmethod\n",
    "    def draw(self, ax: Optional[plt.Axes] = None, *args, **kwargs):\n",
    "        \"\"\"\n",
    "        Draw the cell structure on the given axes.\n",
    "        \"\"\"\n",
    "        pass\n",
    "    \n",
    "@dataclass\n",
    "class Circle(Cell):\n",
    "    radius: float = 1.0\n",
    "    center: np.ndarray = np.array([0., 0.])\n",
    "        \n",
    "    def __post_init__(self):\n",
    "        self.center = np.asarray(self.center).reshape(1, 2)\n",
    "    \n",
    "    def sample(self, n: int) -> Points:\n",
    "        def sample_in_circle(n):\n",
    "            xy = np.random.rand(n, 2)\n",
    "            xy = (xy - .5) * (2 * self.radius)\n",
    "            r = np.linalg.norm(xy, axis=1)\n",
    "            \n",
    "            return xy[r <= self.radius, :]\n",
    "        \n",
    "        n2 = n << 1\n",
    "        xy = sample_in_circle(n2)\n",
    "        \n",
    "        while xy.shape[0] < n:\n",
    "            xy = sample_in_circle(n2)\n",
    "            \n",
    "        return Points(array=xy[:n, :] + self.center)\n",
    "    \n",
    "    def draw(self, ax: Optional[plt.Axes] = None, *args, fill=False, **kwargs):\n",
    "        if ax is None:\n",
    "            ax = plt.gca()\n",
    "        circle = plt.Circle(self.center.flatten(), self.radius, *args, fill=fill, **kwargs)\n",
    "        return ax.add_patch(circle)\n",
    "    \n",
    "@dataclass\n",
    "class Hexagon(Cell):\n",
    "    radius: float = 1.0\n",
    "    center: np.ndarray = np.array([0., 0.])\n",
    "    rotation: float = 0.0\n",
    "        \n",
    "    def __post_init__(self):\n",
    "        self.center = np.asarray(self.center).reshape(1, 2)\n",
    "      \n",
    "    @property\n",
    "    def corners_centered_array(self) -> np.ndarray:\n",
    "        zero = 0.\n",
    "        radi = self.radius\n",
    "        s3_2 = np.sqrt(3) * .5 * self.radius\n",
    "        ra_2 = self.radius * .5\n",
    "        array = np.array([\n",
    "            [+s3_2, +ra_2],\n",
    "            [+zero, +radi],\n",
    "            [-s3_2, +ra_2],\n",
    "            [-s3_2, -ra_2],\n",
    "            [+zero, -radi],\n",
    "            [+s3_2, -ra_2],\n",
    "        ])\n",
    "        return array\n",
    "    \n",
    "    @property\n",
    "    def rotation_array(self) -> np.ndarray:\n",
    "        cos = np.cos(self.rotation)\n",
    "        sin = np.sin(self.rotation)\n",
    "        \n",
    "        return np.array([\n",
    "            [+cos, -sin],\n",
    "            [+sin, +cos],\n",
    "        ])\n",
    "    \n",
    "    @property\n",
    "    def corners_centered(self) -> Points:\n",
    "        array = self.corners_centered_array\n",
    "        return Points(array=array)\n",
    "    \n",
    "    @property\n",
    "    def corners_array(self) -> np.ndarray:\n",
    "        array = self.corners_centered_array\n",
    "        array = (self.rotation_array @ array.T).T\n",
    "        return array + self.center\n",
    "        \n",
    "    @property\n",
    "    def corners(self) -> Points:\n",
    "        array = self.corners_array\n",
    "        return Points(array=array)\n",
    "    \n",
    "    def sample(self, n: int) -> Points:\n",
    "        def sample_in_hexagon(n):\n",
    "            \"\"\"\n",
    "            We check that points are in hexagon using\n",
    "            the 'cross product trick'.\n",
    "            \"\"\"\n",
    "            xy = np.random.rand(n, 2)\n",
    "            xy = (xy - .5) * (2 * self.radius)\n",
    "            corners = self.corners_centered_array\n",
    "            \n",
    "            # Vectors from points (samples) to each corner\n",
    "            v1 = - xy[:,:,None] + corners.T[None,:,:]\n",
    "            v2 = - xy[:,:,None] + np.roll(corners, 1, axis=0).T[None,:,:]\n",
    "            \n",
    "            cross = np.cross(v1, v2, axis=1)\n",
    "            \n",
    "            # Sum is 6 (or -6) if all the signs are the same\n",
    "            s = np.sum(np.sign(cross), axis=1)\n",
    "            index = np.abs(s) == 6\n",
    "            \n",
    "            return xy[index, :]\n",
    "        \n",
    "        n2 = n << 1\n",
    "        xy = sample_in_hexagon(n2)\n",
    "        \n",
    "        while xy.shape[0] < n:\n",
    "            xy = sample_in_hexagon(n2)\n",
    "            \n",
    "        xy = (self.rotation_array @ xy.T).T\n",
    "            \n",
    "        return Points(array=xy[:n, :] + self.center)\n",
    "    \n",
    "    def draw(self, ax: Optional[plt.Axes] = None, *args, fill=False, **kwargs):\n",
    "        if ax is None:\n",
    "            ax = plt.gca()\n",
    "        hexagon = plt.Polygon(self.corners_array, *args, fill=fill, **kwargs)\n",
    "        return ax.add_patch(hexagon)\n",
    "    \n",
    "def received_power(points: Points, alpha: float = 2.0) -> np.ndarray:\n",
    "    r = np.linalg.norm(points.array, axis=1)\n",
    "    return 1 / (1+r**2)**(alpha/2)"
   ]
  },
  {
   "cell_type": "code",
   "execution_count": null,
   "metadata": {},
   "outputs": [],
   "source": [
    "cell = Circle(radius=3)\n",
    "\n",
    "points = cell.sample(1000)\n",
    "\n",
    "cell.draw()\n",
    "points.draw()"
   ]
  },
  {
   "cell_type": "code",
   "execution_count": null,
   "metadata": {},
   "outputs": [],
   "source": [
    "radii = np.linspace(1, 10)\n",
    "n = 10000\n",
    "\n",
    "cell_type = Circle\n",
    "\n",
    "for alpha in [2., 2.5, 3.]:\n",
    "    powers = []\n",
    "    stds = []\n",
    "    for radius in radii:\n",
    "        cell = cell_type(radius=radius)\n",
    "        power = received_power(points=cell.sample(n), alpha=alpha)\n",
    "        powers.append(np.mean(power))\n",
    "        stds.append(np.std(power))\n",
    "        \n",
    "    plt.errorbar(radii, powers, yerr=stds, label=f\"alpha = {alpha}\")\n",
    "    \n",
    "plt.yscale(\"log\")\n",
    "plt.legend()"
   ]
  },
  {
   "cell_type": "code",
   "execution_count": null,
   "metadata": {},
   "outputs": [],
   "source": [
    "### Your code here"
   ]
  },
  {
   "cell_type": "markdown",
   "metadata": {},
   "source": [
    "## 1.B Average power on a random grid\n",
    "\n",
    "In the above, the case of perfectly regular grids has been considered. Yet, this model does not reflect the inherent irregularity of real world networks. Therefore, another framework is the field of **point processes**, which enable to consider a given network topology a a realisation of a random variable. Then, the performances can be averaged out of all the network topologies. \n",
    "\n",
    "Many types of point processes exist, but we will consider in this project **Poisson Point Processes** (PPP), as they are known to provide quite tractable results. Such process is defined as follows. "
   ]
  },
  {
   "cell_type": "markdown",
   "metadata": {},
   "source": [
    "Let $\\lambda$ be the point density, express in [points/unit area], and consider a given surface $\\mathcal{S}$ of area $A$. Then, a realisation of the Poisson point process with density $\\lambda$ is obtained by\n",
    "- Drawing the number of points $N$ from a Poisson distribution with parameter $\\lambda A$, whose PDF is given by $f(N=n) = \\frac{(\\lambda A)^n e^{-\\lambda A}}{n!}$.\n",
    "- Picking the position of these points (i.e. $x$ and $y$ coordinates) independently and uniformly at random in $\\mathcal{S}$. \n",
    "\n",
    "Implement the below function, which return a realisation of a Poisson point process of point density $\\lambda$ in the centered square of sidelength $L$. "
   ]
  },
  {
   "cell_type": "code",
   "execution_count": null,
   "metadata": {},
   "outputs": [],
   "source": [
    "#Implement PPP function"
   ]
  },
  {
   "cell_type": "markdown",
   "metadata": {},
   "source": [
    "To study the mean downlink power across a network, one should do the following. \n",
    "> Given a large region $\\mathcal{S}$, a PPP with density $\\lambda_{\\text{BS}}$ should be generated, representing the BS. A second PPP with density $\\lambda_{\\text{UE}}$ sould also be generated, being the User Equipments (UEs). Then, for each UE, the closest BS could be determined and the power could be computed. \n",
    "\n",
    "In this process, the UEs located near the boundary of $\\mathcal{S}$ should not be taken into account as they might suffer from boundary effects.\n",
    "\n",
    "Nevertheless, such procedure can be simplified when one is interested in a single user or single BS. Indeed, one of the property of a PPP is that a single point can be added to the PPP without modifying the PPP properties. This means that without loss of generality, the unique UE which is considered for the average power can be considered located at $(x,y)=(0,0)$. The Monte-Carlo simulation takes then the following form. \n",
    "\n",
    "> Given a large region $\\mathcal{S}$, a PPP with density $\\lambda_{\\text{BS}}$ should be generated, representing the BS. A typical UE is located at $(x,y) = (0,0)$,  and the power coming from the closest BS can be computed.\n",
    "\n",
    "Taking advantage of the above functions, compute the average power received by a UE, for $L_0=1$, $h=1$, $\\alpha = 2,3,4$, and $\\lambda \\in [0.1,10]$. For the first method, let $\\mathcal{S}$ be a centered square of sidelength $100$, and make the average only on UEs inside a square of sidelength $50$ to avoid boundary effects. For the second method, a square of sidelength $30$ is sufficient.\n",
    "Compare the number of draws which need to be performed in order to have smooth curves with the two methods, and discuss the complexity of both methods. "
   ]
  },
  {
   "cell_type": "code",
   "execution_count": null,
   "metadata": {},
   "outputs": [],
   "source": [
    "#Implement Monte-Carlo simulation - method 1"
   ]
  },
  {
   "cell_type": "code",
   "execution_count": null,
   "metadata": {},
   "outputs": [],
   "source": [
    "#Implement Monte-Carlo simulation - method 2"
   ]
  },
  {
   "cell_type": "markdown",
   "metadata": {},
   "source": [
    "The Poisson property of PPP is particularly useful when considering such problem from their analytic counterparts. Yet, such analytic development is not the aim of this project and we will always consider Monte-Carlo simulations to evaluate the performances in the following. "
   ]
  },
  {
   "cell_type": "markdown",
   "metadata": {},
   "source": [
    "## 1.C Average exposure on a random grid\n",
    "\n",
    "The above focuses on the average power received from the BS serving a UE. While this is already very interesting, this does not fully use the power of the framework of point processes. Indeed, a single user and a singly BS are considered, and thus one could avoir generating the whole network to evaluate the performance.  \n",
    "\n",
    "To investigate the use of point processes, one can consider the exposure a UE gets in a network, i.e. the sum of the power coming from all the BSs. \n",
    "\n",
    "Implement a Monte-Carlo method investigating how the exposure evolves with the BS density, for $L_0=1$, $h=1$, $\\alpha = 2,3,4$, and $\\lambda \\in [0.1,10]$. Consider only the second way of doing the Monte-Carlo simulation, i.e., with a centered typical user. You can use a square $\\mathcal{S}$ of length $100$ to begin. Among others, what happens when $\\alpha = 2$? Consider a square of length $200$, and $300$ to understand this phenomenon. "
   ]
  },
  {
   "cell_type": "code",
   "execution_count": null,
   "metadata": {},
   "outputs": [],
   "source": [
    "#Implement Monte-Carlo simulation - exposure"
   ]
  }
 ],
 "metadata": {
  "kernelspec": {
   "display_name": "Python 3",
   "language": "python",
   "name": "python3"
  },
  "language_info": {
   "codemirror_mode": {
    "name": "ipython",
    "version": 3
   },
   "file_extension": ".py",
   "mimetype": "text/x-python",
   "name": "python",
   "nbconvert_exporter": "python",
   "pygments_lexer": "ipython3",
   "version": "3.8.5"
  }
 },
 "nbformat": 4,
 "nbformat_minor": 5
}
